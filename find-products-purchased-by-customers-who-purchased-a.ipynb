{
 "cells": [
  {
   "cell_type": "markdown",
   "source": "# Find Products purchased by customers who bought Product A\n\nRelated article: https://www.dataenlightened.com/posts/products-purchased-by-customer-who-purchased-product-a/\n",
   "metadata": {
    "tags": [],
    "cell_id": "0c22bc93-d7df-47f5-b5e5-9798d4f7e19e",
    "deepnote_cell_type": "markdown"
   }
  },
  {
   "cell_type": "code",
   "metadata": {
    "tags": [],
    "deepnote_to_be_reexecuted": false,
    "source_hash": "ee11e3b8",
    "execution_start": 1643298678116,
    "execution_millis": 4972,
    "cell_id": "00001-99576e03-d21f-4c47-b042-3e6e019f43c2",
    "deepnote_cell_type": "code"
   },
   "source": "import pandas as pd\nimport numpy as np\nimport matplotlib.pyplot as plt\nimport seaborn as sns\n%matplotlib inline\n\n# BigQuery SDK Library setup\n%load_ext google.cloud.bigquery\n\nimport os\nfrom google.cloud import bigquery\nfrom google.oauth2 import service_account\n",
   "outputs": [],
   "execution_count": 1
  },
  {
   "cell_type": "markdown",
   "source": "## Load Google Analytics 360 data from BigQuery",
   "metadata": {
    "tags": [],
    "cell_id": "00002-4de1362d-1afc-4e1d-9889-59e54b1ba23e",
    "deepnote_cell_type": "markdown"
   }
  },
  {
   "cell_type": "code",
   "metadata": {
    "tags": [],
    "deepnote_to_be_reexecuted": false,
    "source_hash": "8e3f8305",
    "execution_start": 1643298687096,
    "execution_millis": 5,
    "cell_id": "00003-2abef037-6592-4e82-bfed-2284ce1ba2d2",
    "deepnote_cell_type": "code"
   },
   "source": "def load_data_from_bq(sql, credential_json_file):\n\n    os.environ[\"GOOGLE_APPLICATION_CREDENTIALS\"]=credential_json_file\n    credentials = service_account.Credentials.from_service_account_file(credential_json_file)\n\n    bqclient = bigquery.Client(credentials=credentials)\n\n    # Download query results.\n    query_string = sql\n\n    df = (\n        bqclient.query(query_string)\n            .result()\n            .to_dataframe(\n            # Optionally, explicitly request to use the BigQuery Storage API. As of\n            # google-cloud-bigquery version 1.26.0 and above, the BigQuery Storage\n            # API is used by default.\n            create_bqstorage_client=True,\n        )\n    )\n\n    return df",
   "outputs": [],
   "execution_count": 2
  },
  {
   "cell_type": "code",
   "metadata": {
    "tags": [],
    "deepnote_to_be_reexecuted": false,
    "source_hash": "f0a0705d",
    "execution_start": 1643298732896,
    "execution_millis": 15377,
    "deepnote_output_heights": [
     21.1875
    ],
    "cell_id": "00004-4bfabbf5-4066-40b5-9aa9-131fd53bc60c",
    "deepnote_cell_type": "code"
   },
   "source": "my_ga_dataset = \"bigquery-public-data.google_analytics_sample\"  # Replace with your own GA 360 BigQuery dataset\n\ncredentials = \"credentials.json\" # Replace this with your own Bigquery Service Credentials JSON\n\n# SKU = GGOEGDWR015799\n# Product Name = 15 Oz Ceramic Mug\n\nsql = f\"\"\"\nSELECT\n  fullVisitorID,\n  productSKU AS Other_Purchased_SKU,\n  Other_Product_Name,\n  COUNT(productSKU) AS quantity\nFROM (\n  SELECT\n    fullVisitorId,\n    product.productSKU,\n    product.v2ProductName AS Other_Product_Name,\n    hits.eCommerceAction.action_type\n  FROM\n    `bigquery-public-data.google_analytics_sample.ga_sessions_*`,\n    UNNEST(hits) AS hits,\n    UNNEST(product) AS product\n  WHERE\n    fullVisitorId IN (\n    SELECT\n      fullVisitorId\n    FROM\n      `bigquery-public-data.google_analytics_sample.ga_sessions_*`,\n      UNNEST(hits) AS hits,\n      UNNEST(product) AS product\n    WHERE\n      product.productSKU = 'GGOEGDWR015799'   # SKU for 15 oz Ceramic Mug\n      AND hits.eCommerceAction.action_type = '6'\n    GROUP BY\n      fullVisitorId )\n    AND product.productSKU IS NOT NULL\n    AND product.productSKU != 'GGOEGDWR015799'  # SKU for 15 oz Ceramic Mug\n    AND hits.eCommerceAction.action_type = '6' )\nGROUP BY\n  fullVisitorID,\n  Other_Purchased_SKU,\n  Other_Product_Name\nORDER BY\n  quantity DESC;\n\"\"\"\n\ndf = load_data_from_bq(sql=sql, credential_json_file=credentials)",
   "outputs": [],
   "execution_count": 4
  },
  {
   "cell_type": "code",
   "metadata": {
    "tags": [],
    "deepnote_to_be_reexecuted": false,
    "source_hash": "c085b6ba",
    "execution_start": 1643298750329,
    "execution_millis": 22,
    "cell_id": "00005-57721424-22e0-4f0d-9f5f-b59831ff9c83",
    "deepnote_cell_type": "code"
   },
   "source": "df.head()",
   "outputs": [
    {
     "output_type": "execute_result",
     "execution_count": 5,
     "data": {
      "application/vnd.deepnote.dataframe.v3+json": {
       "column_count": 4,
       "row_count": 5,
       "columns": [
        {
         "name": "fullVisitorID",
         "dtype": "object",
         "stats": {
          "unique_count": 4,
          "nan_count": 0,
          "categories": [
           {
            "name": "1956307607572137989",
            "count": 2
           },
           {
            "name": "4988517937139937145",
            "count": 1
           },
           {
            "name": "2 others",
            "count": 2
           }
          ]
         }
        },
        {
         "name": "Other_Purchased_SKU",
         "dtype": "object",
         "stats": {
          "unique_count": 5,
          "nan_count": 0,
          "categories": [
           {
            "name": "GGOEGDHR018499",
            "count": 1
           },
           {
            "name": "GGOEGDHC074099",
            "count": 1
           },
           {
            "name": "3 others",
            "count": 3
           }
          ]
         }
        },
        {
         "name": "Other_Product_Name",
         "dtype": "object",
         "stats": {
          "unique_count": 4,
          "nan_count": 0,
          "categories": [
           {
            "name": "Google 22 oz Water Bottle",
            "count": 2
           },
           {
            "name": "Google 17oz Stainless Steel Sport Bottle",
            "count": 1
           },
           {
            "name": "2 others",
            "count": 2
           }
          ]
         }
        },
        {
         "name": "quantity",
         "dtype": "int64",
         "stats": {
          "unique_count": 2,
          "nan_count": 0,
          "min": "12",
          "max": "14",
          "histogram": [
           {
            "bin_start": 12,
            "bin_end": 12.2,
            "count": 2
           },
           {
            "bin_start": 12.2,
            "bin_end": 12.4,
            "count": 0
           },
           {
            "bin_start": 12.4,
            "bin_end": 12.6,
            "count": 0
           },
           {
            "bin_start": 12.6,
            "bin_end": 12.8,
            "count": 0
           },
           {
            "bin_start": 12.8,
            "bin_end": 13,
            "count": 0
           },
           {
            "bin_start": 13,
            "bin_end": 13.2,
            "count": 0
           },
           {
            "bin_start": 13.2,
            "bin_end": 13.4,
            "count": 0
           },
           {
            "bin_start": 13.4,
            "bin_end": 13.6,
            "count": 0
           },
           {
            "bin_start": 13.6,
            "bin_end": 13.8,
            "count": 0
           },
           {
            "bin_start": 13.8,
            "bin_end": 14,
            "count": 3
           }
          ]
         }
        },
        {
         "name": "_deepnote_index_column",
         "dtype": "int64"
        }
       ],
       "rows": [
        {
         "fullVisitorID": "1956307607572137989",
         "Other_Purchased_SKU": "GGOEGDHR018499",
         "Other_Product_Name": "Google 22 oz Water Bottle",
         "quantity": 14,
         "_deepnote_index_column": 0
        },
        {
         "fullVisitorID": "4988517937139937145",
         "Other_Purchased_SKU": "GGOEGDHC074099",
         "Other_Product_Name": "Google 17oz Stainless Steel Sport Bottle",
         "quantity": 14,
         "_deepnote_index_column": 1
        },
        {
         "fullVisitorID": "1956307607572137989",
         "Other_Purchased_SKU": "GGOEGDHC018299",
         "Other_Product_Name": "Google 22 oz Water Bottle",
         "quantity": 14,
         "_deepnote_index_column": 2
        },
        {
         "fullVisitorID": "9377429831454005466",
         "Other_Purchased_SKU": "GGOEGGOA017399",
         "Other_Product_Name": "Maze Pen",
         "quantity": 12,
         "_deepnote_index_column": 3
        },
        {
         "fullVisitorID": "043584487743669327",
         "Other_Purchased_SKU": "GGOEGGCX056299",
         "Other_Product_Name": "Gift Card - $25.00",
         "quantity": 12,
         "_deepnote_index_column": 4
        }
       ]
      },
      "text/plain": "         fullVisitorID Other_Purchased_SKU  \\\n0  1956307607572137989      GGOEGDHR018499   \n1  4988517937139937145      GGOEGDHC074099   \n2  1956307607572137989      GGOEGDHC018299   \n3  9377429831454005466      GGOEGGOA017399   \n4   043584487743669327      GGOEGGCX056299   \n\n                         Other_Product_Name  quantity  \n0                 Google 22 oz Water Bottle        14  \n1  Google 17oz Stainless Steel Sport Bottle        14  \n2                 Google 22 oz Water Bottle        14  \n3                                  Maze Pen        12  \n4                        Gift Card - $25.00        12  ",
      "text/html": "<div>\n<style scoped>\n    .dataframe tbody tr th:only-of-type {\n        vertical-align: middle;\n    }\n\n    .dataframe tbody tr th {\n        vertical-align: top;\n    }\n\n    .dataframe thead th {\n        text-align: right;\n    }\n</style>\n<table border=\"1\" class=\"dataframe\">\n  <thead>\n    <tr style=\"text-align: right;\">\n      <th></th>\n      <th>fullVisitorID</th>\n      <th>Other_Purchased_SKU</th>\n      <th>Other_Product_Name</th>\n      <th>quantity</th>\n    </tr>\n  </thead>\n  <tbody>\n    <tr>\n      <th>0</th>\n      <td>1956307607572137989</td>\n      <td>GGOEGDHR018499</td>\n      <td>Google 22 oz Water Bottle</td>\n      <td>14</td>\n    </tr>\n    <tr>\n      <th>1</th>\n      <td>4988517937139937145</td>\n      <td>GGOEGDHC074099</td>\n      <td>Google 17oz Stainless Steel Sport Bottle</td>\n      <td>14</td>\n    </tr>\n    <tr>\n      <th>2</th>\n      <td>1956307607572137989</td>\n      <td>GGOEGDHC018299</td>\n      <td>Google 22 oz Water Bottle</td>\n      <td>14</td>\n    </tr>\n    <tr>\n      <th>3</th>\n      <td>9377429831454005466</td>\n      <td>GGOEGGOA017399</td>\n      <td>Maze Pen</td>\n      <td>12</td>\n    </tr>\n    <tr>\n      <th>4</th>\n      <td>043584487743669327</td>\n      <td>GGOEGGCX056299</td>\n      <td>Gift Card - $25.00</td>\n      <td>12</td>\n    </tr>\n  </tbody>\n</table>\n</div>"
     },
     "metadata": {}
    }
   ],
   "execution_count": 5
  },
  {
   "cell_type": "markdown",
   "source": "## What are the 5 most bought products among all these products?",
   "metadata": {
    "tags": [],
    "cell_id": "00006-aacd0eb6-8217-42f7-b1e4-3162b533192a",
    "deepnote_cell_type": "markdown"
   }
  },
  {
   "cell_type": "code",
   "metadata": {
    "tags": [],
    "deepnote_to_be_reexecuted": false,
    "source_hash": "7609d7b6",
    "execution_start": 1643300328176,
    "execution_millis": 52,
    "cell_id": "00007-fc40cc91-aeae-4744-affe-2ffade1daaec",
    "deepnote_output_heights": [
     156,
     174.6875
    ],
    "deepnote_cell_type": "code"
   },
   "source": "# Sort products by quantity purchased most to least\ndf_grouped = df.groupby(['Other_Product_Name'])['Other_Product_Name', 'quantity'].sum().reset_index().copy()\n\n# Get the Top 5 bought products\ndf_grouped.sort_values('quantity', ascending=False).nlargest(5, 'quantity')",
   "outputs": [
    {
     "name": "stderr",
     "text": "/shared-libs/python3.7/py-core/lib/python3.7/site-packages/ipykernel_launcher.py:2: FutureWarning: Indexing with multiple keys (implicitly converted to a tuple of keys) will be deprecated, use a list instead.\n  \n",
     "output_type": "stream"
    },
    {
     "output_type": "execute_result",
     "execution_count": 29,
     "data": {
      "application/vnd.deepnote.dataframe.v3+json": {
       "column_count": 2,
       "row_count": 5,
       "columns": [
        {
         "name": "Other_Product_Name",
         "dtype": "object",
         "stats": {
          "unique_count": 5,
          "nan_count": 0,
          "categories": [
           {
            "name": "Google Sunglasses",
            "count": 1
           },
           {
            "name": "Engraved Ceramic Google Mug",
            "count": 1
           },
           {
            "name": "3 others",
            "count": 3
           }
          ]
         }
        },
        {
         "name": "quantity",
         "dtype": "int64",
         "stats": {
          "unique_count": 5,
          "nan_count": 0,
          "min": "84",
          "max": "230",
          "histogram": [
           {
            "bin_start": 84,
            "bin_end": 98.6,
            "count": 1
           },
           {
            "bin_start": 98.6,
            "bin_end": 113.2,
            "count": 0
           },
           {
            "bin_start": 113.2,
            "bin_end": 127.8,
            "count": 0
           },
           {
            "bin_start": 127.8,
            "bin_end": 142.4,
            "count": 2
           },
           {
            "bin_start": 142.4,
            "bin_end": 157,
            "count": 1
           },
           {
            "bin_start": 157,
            "bin_end": 171.6,
            "count": 0
           },
           {
            "bin_start": 171.6,
            "bin_end": 186.2,
            "count": 0
           },
           {
            "bin_start": 186.2,
            "bin_end": 200.8,
            "count": 0
           },
           {
            "bin_start": 200.8,
            "bin_end": 215.4,
            "count": 0
           },
           {
            "bin_start": 215.4,
            "bin_end": 230,
            "count": 1
           }
          ]
         }
        },
        {
         "name": "_deepnote_index_column",
         "dtype": "int64"
        }
       ],
       "rows": [
        {
         "Other_Product_Name": "Google Sunglasses",
         "quantity": 230,
         "_deepnote_index_column": 200
        },
        {
         "Other_Product_Name": "Engraved Ceramic Google Mug",
         "quantity": 154,
         "_deepnote_index_column": 77
        },
        {
         "Other_Product_Name": "Google 22 oz Water Bottle",
         "quantity": 132,
         "_deepnote_index_column": 86
        },
        {
         "Other_Product_Name": "Google Laptop and Cell Phone Stickers",
         "quantity": 130,
         "_deepnote_index_column": 129
        },
        {
         "Other_Product_Name": "Recycled Paper Journal Set",
         "quantity": 84,
         "_deepnote_index_column": 284
        }
       ]
      },
      "text/plain": "                        Other_Product_Name  quantity\n200                      Google Sunglasses       230\n77             Engraved Ceramic Google Mug       154\n86               Google 22 oz Water Bottle       132\n129  Google Laptop and Cell Phone Stickers       130\n284             Recycled Paper Journal Set        84",
      "text/html": "<div>\n<style scoped>\n    .dataframe tbody tr th:only-of-type {\n        vertical-align: middle;\n    }\n\n    .dataframe tbody tr th {\n        vertical-align: top;\n    }\n\n    .dataframe thead th {\n        text-align: right;\n    }\n</style>\n<table border=\"1\" class=\"dataframe\">\n  <thead>\n    <tr style=\"text-align: right;\">\n      <th></th>\n      <th>Other_Product_Name</th>\n      <th>quantity</th>\n    </tr>\n  </thead>\n  <tbody>\n    <tr>\n      <th>200</th>\n      <td>Google Sunglasses</td>\n      <td>230</td>\n    </tr>\n    <tr>\n      <th>77</th>\n      <td>Engraved Ceramic Google Mug</td>\n      <td>154</td>\n    </tr>\n    <tr>\n      <th>86</th>\n      <td>Google 22 oz Water Bottle</td>\n      <td>132</td>\n    </tr>\n    <tr>\n      <th>129</th>\n      <td>Google Laptop and Cell Phone Stickers</td>\n      <td>130</td>\n    </tr>\n    <tr>\n      <th>284</th>\n      <td>Recycled Paper Journal Set</td>\n      <td>84</td>\n    </tr>\n  </tbody>\n</table>\n</div>"
     },
     "metadata": {}
    }
   ],
   "execution_count": 29
  },
  {
   "cell_type": "markdown",
   "source": "## What are the 5 least bought products among all these products?",
   "metadata": {
    "cell_id": "17d38032-b746-4ae3-9245-bc06e97db844",
    "tags": [],
    "deepnote_cell_type": "markdown"
   }
  },
  {
   "cell_type": "code",
   "source": "# Get the Least 5 bought products\ndf_grouped.sort_values('quantity', ascending=True).nsmallest(5, 'quantity')",
   "metadata": {
    "cell_id": "92760acc-2d06-49f5-bfe7-7fca805ea1b4",
    "tags": [],
    "deepnote_to_be_reexecuted": false,
    "source_hash": "ad5f6db2",
    "execution_start": 1643300338285,
    "execution_millis": 48,
    "deepnote_cell_type": "code"
   },
   "outputs": [
    {
     "output_type": "execute_result",
     "execution_count": 30,
     "data": {
      "application/vnd.deepnote.dataframe.v3+json": {
       "column_count": 2,
       "row_count": 5,
       "columns": [
        {
         "name": "Other_Product_Name",
         "dtype": "object",
         "stats": {
          "unique_count": 5,
          "nan_count": 0,
          "categories": [
           {
            "name": "Google Bongo Cupholder Bluetooth Speaker",
            "count": 1
           },
           {
            "name": "Metal Texture Roller Pen",
            "count": 1
           },
           {
            "name": "3 others",
            "count": 3
           }
          ]
         }
        },
        {
         "name": "quantity",
         "dtype": "int64",
         "stats": {
          "unique_count": 1,
          "nan_count": 0,
          "min": "2",
          "max": "2",
          "histogram": [
           {
            "bin_start": 1.5,
            "bin_end": 1.6,
            "count": 0
           },
           {
            "bin_start": 1.6,
            "bin_end": 1.7,
            "count": 0
           },
           {
            "bin_start": 1.7,
            "bin_end": 1.8,
            "count": 0
           },
           {
            "bin_start": 1.8,
            "bin_end": 1.9,
            "count": 0
           },
           {
            "bin_start": 1.9,
            "bin_end": 2,
            "count": 0
           },
           {
            "bin_start": 2,
            "bin_end": 2.1,
            "count": 5
           },
           {
            "bin_start": 2.1,
            "bin_end": 2.2,
            "count": 0
           },
           {
            "bin_start": 2.2,
            "bin_end": 2.3,
            "count": 0
           },
           {
            "bin_start": 2.3,
            "bin_end": 2.4,
            "count": 0
           },
           {
            "bin_start": 2.4,
            "bin_end": 2.5,
            "count": 0
           }
          ]
         }
        },
        {
         "name": "_deepnote_index_column",
         "dtype": "int64"
        }
       ],
       "rows": [
        {
         "Other_Product_Name": "Google Bongo Cupholder Bluetooth Speaker",
         "quantity": 2,
         "_deepnote_index_column": 103
        },
        {
         "Other_Product_Name": "Metal Texture Roller Pen",
         "quantity": 2,
         "_deepnote_index_column": 274
        },
        {
         "Other_Product_Name": "Google Women's Short Sleeve Hero Tee Heather",
         "quantity": 2,
         "_deepnote_index_column": 233
        },
        {
         "Other_Product_Name": "Google Women's Short Sleeve Badge Tee Grey",
         "quantity": 2,
         "_deepnote_index_column": 229
        },
        {
         "Other_Product_Name": "Eco-Aware Recycled Journal Combo",
         "quantity": 2,
         "_deepnote_index_column": 75
        }
       ]
      },
      "text/plain": "                               Other_Product_Name  quantity\n103      Google Bongo Cupholder Bluetooth Speaker         2\n274                      Metal Texture Roller Pen         2\n233  Google Women's Short Sleeve Hero Tee Heather         2\n229    Google Women's Short Sleeve Badge Tee Grey         2\n75               Eco-Aware Recycled Journal Combo         2",
      "text/html": "<div>\n<style scoped>\n    .dataframe tbody tr th:only-of-type {\n        vertical-align: middle;\n    }\n\n    .dataframe tbody tr th {\n        vertical-align: top;\n    }\n\n    .dataframe thead th {\n        text-align: right;\n    }\n</style>\n<table border=\"1\" class=\"dataframe\">\n  <thead>\n    <tr style=\"text-align: right;\">\n      <th></th>\n      <th>Other_Product_Name</th>\n      <th>quantity</th>\n    </tr>\n  </thead>\n  <tbody>\n    <tr>\n      <th>103</th>\n      <td>Google Bongo Cupholder Bluetooth Speaker</td>\n      <td>2</td>\n    </tr>\n    <tr>\n      <th>274</th>\n      <td>Metal Texture Roller Pen</td>\n      <td>2</td>\n    </tr>\n    <tr>\n      <th>233</th>\n      <td>Google Women's Short Sleeve Hero Tee Heather</td>\n      <td>2</td>\n    </tr>\n    <tr>\n      <th>229</th>\n      <td>Google Women's Short Sleeve Badge Tee Grey</td>\n      <td>2</td>\n    </tr>\n    <tr>\n      <th>75</th>\n      <td>Eco-Aware Recycled Journal Combo</td>\n      <td>2</td>\n    </tr>\n  </tbody>\n</table>\n</div>"
     },
     "metadata": {}
    }
   ],
   "execution_count": 30
  },
  {
   "cell_type": "markdown",
   "source": "## Fast-moving Products: Customers promptly buy them without doing much research on them",
   "metadata": {
    "tags": [],
    "cell_id": "00008-54d10b30-51fa-4cab-9068-86422075248a",
    "deepnote_cell_type": "markdown"
   }
  },
  {
   "cell_type": "code",
   "metadata": {
    "tags": [],
    "deepnote_to_be_reexecuted": false,
    "source_hash": "6c1a32da",
    "execution_start": 1643103457511,
    "execution_millis": 10,
    "cell_id": "00009-c25713b6-4669-4179-ac06-347cf73159ee",
    "deepnote_cell_type": "code"
   },
   "source": "df.sort_values('avg_hits', ascending=True).head(10)",
   "outputs": [
    {
     "output_type": "execute_result",
     "execution_count": 20,
     "data": {
      "application/vnd.deepnote.dataframe.v3+json": {
       "column_count": 3,
       "row_count": 10,
       "columns": [
        {
         "name": "ProductSku",
         "dtype": "object",
         "stats": {
          "unique_count": 10,
          "nan_count": 0,
          "categories": [
           {
            "name": "GGOEGAAX0127",
            "count": 1
           },
           {
            "name": "GGOEGDWR015799",
            "count": 1
           },
           {
            "name": "8 others",
            "count": 8
           }
          ]
         }
        },
        {
         "name": "ProductName",
         "dtype": "object",
         "stats": {
          "unique_count": 10,
          "nan_count": 0,
          "categories": [
           {
            "name": "Android 24 oz Button Lid Sport Water Bottle",
            "count": 1
           },
           {
            "name": "15 oz Ceramic Mug",
            "count": 1
           },
           {
            "name": "8 others",
            "count": 8
           }
          ]
         }
        },
        {
         "name": "avg_hits",
         "dtype": "float64",
         "stats": {
          "unique_count": 10,
          "nan_count": 0,
          "min": "0.0270059724746819",
          "max": "0.08325991189427313",
          "histogram": [
           {
            "bin_start": 0.0270059724746819,
            "bin_end": 0.03263136641664102,
            "count": 2
           },
           {
            "bin_start": 0.03263136641664102,
            "bin_end": 0.03825676035860015,
            "count": 0
           },
           {
            "bin_start": 0.03825676035860015,
            "bin_end": 0.04388215430055927,
            "count": 0
           },
           {
            "bin_start": 0.04388215430055927,
            "bin_end": 0.04950754824251839,
            "count": 0
           },
           {
            "bin_start": 0.04950754824251839,
            "bin_end": 0.055132942184477514,
            "count": 0
           },
           {
            "bin_start": 0.055132942184477514,
            "bin_end": 0.06075833612643664,
            "count": 2
           },
           {
            "bin_start": 0.06075833612643664,
            "bin_end": 0.06638373006839576,
            "count": 0
           },
           {
            "bin_start": 0.06638373006839576,
            "bin_end": 0.07200912401035489,
            "count": 1
           },
           {
            "bin_start": 0.07200912401035489,
            "bin_end": 0.077634517952314,
            "count": 1
           },
           {
            "bin_start": 0.077634517952314,
            "bin_end": 0.08325991189427313,
            "count": 4
           }
          ]
         }
        },
        {
         "name": "_deepnote_index_column",
         "dtype": "int64"
        }
       ],
       "rows": [
        {
         "ProductSku": "GGOEGAAX0127",
         "ProductName": "Android 24 oz Button Lid Sport Water Bottle",
         "avg_hits": 0.0270059724746819,
         "_deepnote_index_column": 371
        },
        {
         "ProductSku": "GGOEGDWR015799",
         "ProductName": "15 oz Ceramic Mug",
         "avg_hits": 0.03194888178913738,
         "_deepnote_index_column": 1319
        },
        {
         "ProductSku": "GGOEGBMC056599",
         "ProductName": "Google Small Waterproof Duffel",
         "avg_hits": 0.057474874371859296,
         "_deepnote_index_column": 802
        },
        {
         "ProductSku": "GGOEGESQ016799",
         "ProductName": "Google Magnetic Mini Flood Flashlight",
         "avg_hits": 0.060445387062566275,
         "_deepnote_index_column": 1783
        },
        {
         "ProductSku": "GGOEGAAX0327",
         "ProductName": "Google Men's Long & Lean Tee Grey",
         "avg_hits": 0.07023411371237458,
         "_deepnote_index_column": 1997
        },
        {
         "ProductSku": "GGOEGOXQ016399",
         "ProductName": "Google Badge Pull",
         "avg_hits": 0.07731694828469023,
         "_deepnote_index_column": 1992
        },
        {
         "ProductSku": "GGOEGAAX0098",
         "ProductName": "Google 7-inch Dog Flying Disc",
         "avg_hits": 0.07908351810790835,
         "_deepnote_index_column": 510
        },
        {
         "ProductSku": "9182575",
         "ProductName": "Android Men's Zip Hoodie",
         "avg_hits": 0.07971014492753623,
         "_deepnote_index_column": 722
        },
        {
         "ProductSku": "GGOEGAAX0328",
         "ProductName": "Google Men's Long & Lean Tee Charcoal",
         "avg_hits": 0.08209851822186624,
         "_deepnote_index_column": 1018
        },
        {
         "ProductSku": "GGOEGHGH019699",
         "ProductName": "Google Sunglasses Green",
         "avg_hits": 0.08325991189427313,
         "_deepnote_index_column": 1304
        }
       ]
      },
      "text/plain": "          ProductSku                                  ProductName  avg_hits\n371     GGOEGAAX0127  Android 24 oz Button Lid Sport Water Bottle  0.027006\n1319  GGOEGDWR015799                            15 oz Ceramic Mug  0.031949\n802   GGOEGBMC056599               Google Small Waterproof Duffel  0.057475\n1783  GGOEGESQ016799        Google Magnetic Mini Flood Flashlight  0.060445\n1997    GGOEGAAX0327            Google Men's Long & Lean Tee Grey  0.070234\n1992  GGOEGOXQ016399                            Google Badge Pull  0.077317\n510     GGOEGAAX0098                Google 7-inch Dog Flying Disc  0.079084\n722          9182575                     Android Men's Zip Hoodie  0.079710\n1018    GGOEGAAX0328        Google Men's Long & Lean Tee Charcoal  0.082099\n1304  GGOEGHGH019699                      Google Sunglasses Green  0.083260",
      "text/html": "<div>\n<style scoped>\n    .dataframe tbody tr th:only-of-type {\n        vertical-align: middle;\n    }\n\n    .dataframe tbody tr th {\n        vertical-align: top;\n    }\n\n    .dataframe thead th {\n        text-align: right;\n    }\n</style>\n<table border=\"1\" class=\"dataframe\">\n  <thead>\n    <tr style=\"text-align: right;\">\n      <th></th>\n      <th>ProductSku</th>\n      <th>ProductName</th>\n      <th>avg_hits</th>\n    </tr>\n  </thead>\n  <tbody>\n    <tr>\n      <th>371</th>\n      <td>GGOEGAAX0127</td>\n      <td>Android 24 oz Button Lid Sport Water Bottle</td>\n      <td>0.027006</td>\n    </tr>\n    <tr>\n      <th>1319</th>\n      <td>GGOEGDWR015799</td>\n      <td>15 oz Ceramic Mug</td>\n      <td>0.031949</td>\n    </tr>\n    <tr>\n      <th>802</th>\n      <td>GGOEGBMC056599</td>\n      <td>Google Small Waterproof Duffel</td>\n      <td>0.057475</td>\n    </tr>\n    <tr>\n      <th>1783</th>\n      <td>GGOEGESQ016799</td>\n      <td>Google Magnetic Mini Flood Flashlight</td>\n      <td>0.060445</td>\n    </tr>\n    <tr>\n      <th>1997</th>\n      <td>GGOEGAAX0327</td>\n      <td>Google Men's Long &amp; Lean Tee Grey</td>\n      <td>0.070234</td>\n    </tr>\n    <tr>\n      <th>1992</th>\n      <td>GGOEGOXQ016399</td>\n      <td>Google Badge Pull</td>\n      <td>0.077317</td>\n    </tr>\n    <tr>\n      <th>510</th>\n      <td>GGOEGAAX0098</td>\n      <td>Google 7-inch Dog Flying Disc</td>\n      <td>0.079084</td>\n    </tr>\n    <tr>\n      <th>722</th>\n      <td>9182575</td>\n      <td>Android Men's Zip Hoodie</td>\n      <td>0.079710</td>\n    </tr>\n    <tr>\n      <th>1018</th>\n      <td>GGOEGAAX0328</td>\n      <td>Google Men's Long &amp; Lean Tee Charcoal</td>\n      <td>0.082099</td>\n    </tr>\n    <tr>\n      <th>1304</th>\n      <td>GGOEGHGH019699</td>\n      <td>Google Sunglasses Green</td>\n      <td>0.083260</td>\n    </tr>\n  </tbody>\n</table>\n</div>"
     },
     "metadata": {}
    }
   ],
   "execution_count": null
  },
  {
   "cell_type": "markdown",
   "source": "# Find Products purchased by customers who purchased product A",
   "metadata": {
    "tags": [],
    "cell_id": "00010-706efcfc-50e8-48b0-a177-ded825320a5d",
    "deepnote_cell_type": "markdown"
   }
  },
  {
   "cell_type": "code",
   "metadata": {
    "tags": [],
    "deepnote_to_be_reexecuted": false,
    "source_hash": "dfd88c72",
    "execution_start": 1643298561540,
    "execution_millis": 2,
    "cell_id": "00011-e1162437-0b94-4961-92b2-67b001fa374d",
    "deepnote_cell_type": "code"
   },
   "source": "sql = \"\"\"SELECT\n  fullVisitorID,\n  productSKU AS Other_Purchased_SKU,\n  Other_Product_Name,\n  COUNT(productSKU) AS quantity\nFROM (\n  SELECT\n    fullVisitorId,\n    product.productSKU,\n    product.v2ProductName AS Other_Product_Name,\n    hits.eCommerceAction.action_type\n  FROM\n    `bigquery-public-data.google_analytics_sample.ga_sessions_*`,\n    UNNEST(hits) AS hits,\n    UNNEST(product) AS product\n  WHERE\n    fullVisitorId IN (\n    SELECT\n      fullVisitorId\n    FROM\n      `bigquery-public-data.google_analytics_sample.ga_sessions_*`,\n      UNNEST(hits) AS hits,\n      UNNEST(product) AS product\n    WHERE\n      product.productSKU = 'GGOEGDWR015799'   # SKU for 15 oz Ceramic Mug\n      AND hits.eCommerceAction.action_type = '6'\n    GROUP BY\n      fullVisitorId )\n    AND product.productSKU IS NOT NULL\n    AND product.productSKU != 'GGOEGDWR015799'  # SKU for 15 oz Ceramic Mug\n    AND hits.eCommerceAction.action_type = '6' )\nGROUP BY\n  fullVisitorID,\n  Other_Purchased_SKU,\n  Other_Product_Name\nORDER BY\n  quantity DESC;\n\"\"\"\n",
   "outputs": [],
   "execution_count": 1
  },
  {
   "cell_type": "code",
   "metadata": {
    "tags": [],
    "cell_id": "00012-a38e2214-1fa7-4356-9c1e-1c4c7280dcdf",
    "deepnote_cell_type": "code"
   },
   "source": "",
   "outputs": [],
   "execution_count": null
  },
  {
   "cell_type": "markdown",
   "source": "<a style='text-decoration:none;line-height:16px;display:flex;color:#5B5B62;padding:10px;justify-content:end;' href='https://deepnote.com?utm_source=created-in-deepnote-cell&projectId=0bf64fc0-3489-421f-847e-b901bd3270a1' target=\"_blank\">\n<img alt='Created in deepnote.com' style='display:inline;max-height:16px;margin:0px;margin-right:7.5px;' src='data:image/svg+xml;base64,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' > </img>\nCreated in <span style='font-weight:600;margin-left:4px;'>Deepnote</span></a>",
   "metadata": {
    "tags": [],
    "created_in_deepnote_cell": true,
    "deepnote_cell_type": "markdown"
   }
  }
 ],
 "nbformat": 4,
 "nbformat_minor": 2,
 "metadata": {
  "orig_nbformat": 2,
  "deepnote": {
   "is_reactive": false
  },
  "deepnote_notebook_id": "d4e56768-4386-4186-95a0-8c8ab00605d8",
  "deepnote_execution_queue": []
 }
}