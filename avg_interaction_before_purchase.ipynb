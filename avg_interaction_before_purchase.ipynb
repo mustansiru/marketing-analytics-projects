{
 "cells": [
  {
   "cell_type": "markdown",
   "source": "# Average Interactions a user had on your website before making a purchase",
   "metadata": {
    "cell_id": "ae4a1c21-d9b9-4bbc-affc-49fa8b0be916",
    "tags": [],
    "deepnote_cell_type": "markdown"
   }
  },
  {
   "cell_type": "code",
   "metadata": {
    "tags": [],
    "cell_id": "de75a9ae-4ab7-449e-b651-140b75380ae9",
    "deepnote_to_be_reexecuted": false,
    "source_hash": "ee11e3b8",
    "execution_start": 1643103424613,
    "execution_millis": 11,
    "deepnote_cell_type": "code"
   },
   "source": "import pandas as pd\nimport numpy as np\nimport matplotlib.pyplot as plt\nimport seaborn as sns\n%matplotlib inline\n\n# BigQuery SDK Library setup\n%load_ext google.cloud.bigquery\n\nimport os\nfrom google.cloud import bigquery\nfrom google.oauth2 import service_account\n",
   "outputs": [
    {
     "name": "stdout",
     "text": "The google.cloud.bigquery extension is already loaded. To reload it, use:\n  %reload_ext google.cloud.bigquery\n",
     "output_type": "stream"
    }
   ],
   "execution_count": null
  },
  {
   "cell_type": "markdown",
   "source": "## Load Google Analytics 360 data from BigQuery",
   "metadata": {
    "cell_id": "80e803d2-360a-4029-a494-753508e5ef1b",
    "tags": [],
    "deepnote_cell_type": "markdown"
   }
  },
  {
   "cell_type": "code",
   "metadata": {
    "cell_id": "b093f1da-f3d2-4833-8e80-9fcc77fb5e5c",
    "tags": [],
    "deepnote_to_be_reexecuted": false,
    "source_hash": "8e3f8305",
    "execution_start": 1643103430564,
    "execution_millis": 2,
    "deepnote_cell_type": "code"
   },
   "source": "def load_data_from_bq(sql, credential_json_file):\n\n    os.environ[\"GOOGLE_APPLICATION_CREDENTIALS\"]=credential_json_file\n    credentials = service_account.Credentials.from_service_account_file(credential_json_file)\n\n    bqclient = bigquery.Client(credentials=credentials)\n\n    # Download query results.\n    query_string = sql\n\n    df = (\n        bqclient.query(query_string)\n            .result()\n            .to_dataframe(\n            # Optionally, explicitly request to use the BigQuery Storage API. As of\n            # google-cloud-bigquery version 1.26.0 and above, the BigQuery Storage\n            # API is used by default.\n            create_bqstorage_client=True,\n        )\n    )\n\n    return df",
   "outputs": [],
   "execution_count": null
  },
  {
   "cell_type": "code",
   "source": "my_ga_dataset = \"bigquery-public-data.google_analytics_sample\"  # Replace with your own GA 360 BigQuery dataset\n\ncredentials = \"credentials.json\". # Replace this with your own Bigquery Service Credentials JSON\n\nsql = f\"\"\"\nSELECT\n  Table_1.productSku AS ProductSku,\n  Table_1.v2ProductName AS ProductName,\n  ( sum_of_hit_number / total_hits ) AS avg_hits\nFROM (\n  SELECT\n    p.productSku,\n    p.v2ProductName,\n    SUM(h.hitNumber) AS sum_of_hit_number\n  FROM\n    `{my_ga_dataset}.ga_sessions_*`,\n    UNNEST(hits) AS h,\n    UNNEST(product) AS p\n  WHERE\n    totals.transactions>=1\n    AND p.productSku IN (\n    SELECT\n      DISTINCT p.productSku\n    FROM\n      `{my_ga_dataset}.ga_sessions_*`,\n      UNNEST(hits) AS h,\n      UNNEST(product) AS p\n    WHERE\n      p.productSku IS NOT NULL)\n  GROUP BY\n    productSku,\n    v2ProductName ) AS Table_1\nJOIN (\n  SELECT\n    p.productSku AS productSku,\n    COUNT( fullVisitorId ) AS total_hits\n  FROM\n    `{my_ga_dataset}.ga_sessions_*`,\n    UNNEST(hits) AS h,\n    UNNEST(product) AS p\n  WHERE\n    p.productSku IS NOT NULL\n    AND totals.transactions>=1\n  GROUP BY\n    p.productSku ) AS Table_2\nON\n  Table_1.productSku = Table_2.productSku;\n\"\"\"\n\ndf = load_data_from_bq(sql=sql, credential_json_file=credentials)",
   "metadata": {
    "cell_id": "86fbc18d-3242-494a-98ce-7a83f818eb70",
    "tags": [],
    "deepnote_to_be_reexecuted": false,
    "source_hash": "76eee8f0",
    "execution_start": 1643103432925,
    "execution_millis": 13461,
    "deepnote_output_heights": [
     21.1875
    ],
    "deepnote_cell_type": "code"
   },
   "outputs": [],
   "execution_count": null
  },
  {
   "cell_type": "code",
   "metadata": {
    "cell_id": "bb2058c3-869e-40b0-bd10-f3d87198e93a",
    "tags": [],
    "deepnote_to_be_reexecuted": false,
    "source_hash": "c085b6ba",
    "execution_start": 1643103449848,
    "execution_millis": 7,
    "deepnote_cell_type": "code"
   },
   "source": "df.head()",
   "outputs": [
    {
     "output_type": "execute_result",
     "execution_count": 18,
     "data": {
      "application/vnd.deepnote.dataframe.v3+json": {
       "column_count": 3,
       "row_count": 5,
       "columns": [
        {
         "name": "ProductSku",
         "dtype": "object",
         "stats": {
          "unique_count": 5,
          "nan_count": 0,
          "categories": [
           {
            "name": "GGOEGAAX0657",
            "count": 1
           },
           {
            "name": "GGOEYOBR078599",
            "count": 1
           },
           {
            "name": "3 others",
            "count": 3
           }
          ]
         }
        },
        {
         "name": "ProductName",
         "dtype": "object",
         "stats": {
          "unique_count": 5,
          "nan_count": 0,
          "categories": [
           {
            "name": "Google Toddler 1/4 Zip Fleece Pewter",
            "count": 1
           },
           {
            "name": "YouTube Luggage Tag",
            "count": 1
           },
           {
            "name": "3 others",
            "count": 3
           }
          ]
         }
        },
        {
         "name": "avg_hits",
         "dtype": "float64",
         "stats": {
          "unique_count": 5,
          "nan_count": 0,
          "min": "22.69298245614035",
          "max": "31.41860465116279",
          "histogram": [
           {
            "bin_start": 22.69298245614035,
            "bin_end": 23.56554467564259,
            "count": 1
           },
           {
            "bin_start": 23.56554467564259,
            "bin_end": 24.438106895144838,
            "count": 0
           },
           {
            "bin_start": 24.438106895144838,
            "bin_end": 25.310669114647084,
            "count": 2
           },
           {
            "bin_start": 25.310669114647084,
            "bin_end": 26.183231334149326,
            "count": 0
           },
           {
            "bin_start": 26.183231334149326,
            "bin_end": 27.05579355365157,
            "count": 1
           },
           {
            "bin_start": 27.05579355365157,
            "bin_end": 27.928355773153815,
            "count": 0
           },
           {
            "bin_start": 27.928355773153815,
            "bin_end": 28.80091799265606,
            "count": 0
           },
           {
            "bin_start": 28.80091799265606,
            "bin_end": 29.673480212158303,
            "count": 0
           },
           {
            "bin_start": 29.673480212158303,
            "bin_end": 30.546042431660545,
            "count": 0
           },
           {
            "bin_start": 30.546042431660545,
            "bin_end": 31.41860465116279,
            "count": 1
           }
          ]
         }
        },
        {
         "name": "_deepnote_index_column",
         "dtype": "int64"
        }
       ],
       "rows": [
        {
         "ProductSku": "GGOEGAAX0657",
         "ProductName": "Google Toddler 1/4 Zip Fleece Pewter",
         "avg_hits": 26.484217595701814,
         "_deepnote_index_column": 0
        },
        {
         "ProductSku": "GGOEYOBR078599",
         "ProductName": "YouTube Luggage Tag",
         "avg_hits": 24.547529411764707,
         "_deepnote_index_column": 1
        },
        {
         "ProductSku": "GGOEYOLR080599",
         "ProductName": "YouTube Notebook and Pen Set",
         "avg_hits": 22.69298245614035,
         "_deepnote_index_column": 2
        },
        {
         "ProductSku": "9184620",
         "ProductName": "Google Men's Performance Full Zip Jacket Black",
         "avg_hits": 31.41860465116279,
         "_deepnote_index_column": 3
        },
        {
         "ProductSku": "GGOEA0CH077599",
         "ProductName": "Android Hard Cover Journal",
         "avg_hits": 24.978102189781023,
         "_deepnote_index_column": 4
        }
       ]
      },
      "text/plain": "       ProductSku                                     ProductName   avg_hits\n0    GGOEGAAX0657            Google Toddler 1/4 Zip Fleece Pewter  26.484218\n1  GGOEYOBR078599                             YouTube Luggage Tag  24.547529\n2  GGOEYOLR080599                    YouTube Notebook and Pen Set  22.692982\n3         9184620  Google Men's Performance Full Zip Jacket Black  31.418605\n4  GGOEA0CH077599                      Android Hard Cover Journal  24.978102",
      "text/html": "<div>\n<style scoped>\n    .dataframe tbody tr th:only-of-type {\n        vertical-align: middle;\n    }\n\n    .dataframe tbody tr th {\n        vertical-align: top;\n    }\n\n    .dataframe thead th {\n        text-align: right;\n    }\n</style>\n<table border=\"1\" class=\"dataframe\">\n  <thead>\n    <tr style=\"text-align: right;\">\n      <th></th>\n      <th>ProductSku</th>\n      <th>ProductName</th>\n      <th>avg_hits</th>\n    </tr>\n  </thead>\n  <tbody>\n    <tr>\n      <th>0</th>\n      <td>GGOEGAAX0657</td>\n      <td>Google Toddler 1/4 Zip Fleece Pewter</td>\n      <td>26.484218</td>\n    </tr>\n    <tr>\n      <th>1</th>\n      <td>GGOEYOBR078599</td>\n      <td>YouTube Luggage Tag</td>\n      <td>24.547529</td>\n    </tr>\n    <tr>\n      <th>2</th>\n      <td>GGOEYOLR080599</td>\n      <td>YouTube Notebook and Pen Set</td>\n      <td>22.692982</td>\n    </tr>\n    <tr>\n      <th>3</th>\n      <td>9184620</td>\n      <td>Google Men's Performance Full Zip Jacket Black</td>\n      <td>31.418605</td>\n    </tr>\n    <tr>\n      <th>4</th>\n      <td>GGOEA0CH077599</td>\n      <td>Android Hard Cover Journal</td>\n      <td>24.978102</td>\n    </tr>\n  </tbody>\n</table>\n</div>"
     },
     "metadata": {}
    }
   ],
   "execution_count": null
  },
  {
   "cell_type": "markdown",
   "source": "## Slow-moving Products: Customers spend lot of time on them before buying",
   "metadata": {
    "cell_id": "0e217926-370a-4d4e-bdb9-262404a4ff50",
    "tags": [],
    "deepnote_cell_type": "markdown"
   }
  },
  {
   "cell_type": "code",
   "metadata": {
    "cell_id": "6d0b39ca-988f-4101-90b5-564602867064",
    "tags": [],
    "deepnote_to_be_reexecuted": false,
    "source_hash": "bd233063",
    "execution_start": 1643103453828,
    "execution_millis": 164,
    "deepnote_cell_type": "code"
   },
   "source": "df.sort_values('avg_hits', ascending=False).head(10)",
   "outputs": [
    {
     "output_type": "execute_result",
     "execution_count": 19,
     "data": {
      "application/vnd.deepnote.dataframe.v3+json": {
       "column_count": 3,
       "row_count": 10,
       "columns": [
        {
         "name": "ProductSku",
         "dtype": "object",
         "stats": {
          "unique_count": 10,
          "nan_count": 0,
          "categories": [
           {
            "name": "GGOEAAEB028315",
            "count": 1
           },
           {
            "name": "GGOEYAEB031416",
            "count": 1
           },
           {
            "name": "8 others",
            "count": 8
           }
          ]
         }
        },
        {
         "name": "ProductName",
         "dtype": "object",
         "stats": {
          "unique_count": 10,
          "nan_count": 0,
          "categories": [
           {
            "name": "Android Women's Short Sleeve Hero Tee Black",
            "count": 1
           },
           {
            "name": "YouTube Men's 3/4 Sleeve Henley",
            "count": 1
           },
           {
            "name": "8 others",
            "count": 8
           }
          ]
         }
        },
        {
         "name": "avg_hits",
         "dtype": "float64",
         "stats": {
          "unique_count": 10,
          "nan_count": 0,
          "min": "182.56",
          "max": "303.5",
          "histogram": [
           {
            "bin_start": 182.56,
            "bin_end": 194.654,
            "count": 3
           },
           {
            "bin_start": 194.654,
            "bin_end": 206.748,
            "count": 1
           },
           {
            "bin_start": 206.748,
            "bin_end": 218.84199999999998,
            "count": 0
           },
           {
            "bin_start": 218.84199999999998,
            "bin_end": 230.936,
            "count": 0
           },
           {
            "bin_start": 230.936,
            "bin_end": 243.03,
            "count": 2
           },
           {
            "bin_start": 243.03,
            "bin_end": 255.124,
            "count": 3
           },
           {
            "bin_start": 255.124,
            "bin_end": 267.218,
            "count": 0
           },
           {
            "bin_start": 267.218,
            "bin_end": 279.312,
            "count": 0
           },
           {
            "bin_start": 279.312,
            "bin_end": 291.406,
            "count": 0
           },
           {
            "bin_start": 291.406,
            "bin_end": 303.5,
            "count": 1
           }
          ]
         }
        },
        {
         "name": "_deepnote_index_column",
         "dtype": "int64"
        }
       ],
       "rows": [
        {
         "ProductSku": "GGOEAAEB028315",
         "ProductName": "Android Women's Short Sleeve Hero Tee Black",
         "avg_hits": 303.5,
         "_deepnote_index_column": 1977
        },
        {
         "ProductSku": "GGOEYAEB031416",
         "ProductName": "YouTube Men's 3/4 Sleeve Henley",
         "avg_hits": 249.6,
         "_deepnote_index_column": 1916
        },
        {
         "ProductSku": "GGOEGALQ058113",
         "ProductName": "Google Women's Colorblock Tee White",
         "avg_hits": 249.25,
         "_deepnote_index_column": 2036
        },
        {
         "ProductSku": "GGOEGAAJ080713",
         "ProductName": "Google Men's Around The Block Short Sleeve Tee Ash",
         "avg_hits": 248.625,
         "_deepnote_index_column": 417
        },
        {
         "ProductSku": "GGOEGAEJ030717",
         "ProductName": "Google Men's 3/4 Sleeve Raglan Henley Grey",
         "avg_hits": 241,
         "_deepnote_index_column": 1339
        },
        {
         "ProductSku": "GGOEAAEB031214",
         "ProductName": "Android Heavyweight Long Sleeve Badge Tee Black",
         "avg_hits": 238.5731707317073,
         "_deepnote_index_column": 2015
        },
        {
         "ProductSku": "9180774",
         "ProductName": "Pet Feeding Mat",
         "avg_hits": 200,
         "_deepnote_index_column": 828
        },
        {
         "ProductSku": "GGOEGAXC075155",
         "ProductName": "Google Toddler Tee Fruit Games Lemon",
         "avg_hits": 191.5,
         "_deepnote_index_column": 1617
        },
        {
         "ProductSku": "GGOEAAEB031616",
         "ProductName": "Android Men's 3/4 Sleeve Raglan Henley Black",
         "avg_hits": 184.30434782608697,
         "_deepnote_index_column": 1299
        },
        {
         "ProductSku": "GGOEAAAJ034513",
         "ProductName": "Android Men's Vintage Tee",
         "avg_hits": 182.56,
         "_deepnote_index_column": 360
        }
       ]
      },
      "text/plain": "          ProductSku                                        ProductName  \\\n1977  GGOEAAEB028315        Android Women's Short Sleeve Hero Tee Black   \n1916  GGOEYAEB031416                    YouTube Men's 3/4 Sleeve Henley   \n2036  GGOEGALQ058113                Google Women's Colorblock Tee White   \n417   GGOEGAAJ080713  Google Men's Around The Block Short Sleeve Tee...   \n1339  GGOEGAEJ030717         Google Men's 3/4 Sleeve Raglan Henley Grey   \n2015  GGOEAAEB031214    Android Heavyweight Long Sleeve Badge Tee Black   \n828          9180774                                    Pet Feeding Mat   \n1617  GGOEGAXC075155               Google Toddler Tee Fruit Games Lemon   \n1299  GGOEAAEB031616       Android Men's 3/4 Sleeve Raglan Henley Black   \n360   GGOEAAAJ034513                          Android Men's Vintage Tee   \n\n        avg_hits  \n1977  303.500000  \n1916  249.600000  \n2036  249.250000  \n417   248.625000  \n1339  241.000000  \n2015  238.573171  \n828   200.000000  \n1617  191.500000  \n1299  184.304348  \n360   182.560000  ",
      "text/html": "<div>\n<style scoped>\n    .dataframe tbody tr th:only-of-type {\n        vertical-align: middle;\n    }\n\n    .dataframe tbody tr th {\n        vertical-align: top;\n    }\n\n    .dataframe thead th {\n        text-align: right;\n    }\n</style>\n<table border=\"1\" class=\"dataframe\">\n  <thead>\n    <tr style=\"text-align: right;\">\n      <th></th>\n      <th>ProductSku</th>\n      <th>ProductName</th>\n      <th>avg_hits</th>\n    </tr>\n  </thead>\n  <tbody>\n    <tr>\n      <th>1977</th>\n      <td>GGOEAAEB028315</td>\n      <td>Android Women's Short Sleeve Hero Tee Black</td>\n      <td>303.500000</td>\n    </tr>\n    <tr>\n      <th>1916</th>\n      <td>GGOEYAEB031416</td>\n      <td>YouTube Men's 3/4 Sleeve Henley</td>\n      <td>249.600000</td>\n    </tr>\n    <tr>\n      <th>2036</th>\n      <td>GGOEGALQ058113</td>\n      <td>Google Women's Colorblock Tee White</td>\n      <td>249.250000</td>\n    </tr>\n    <tr>\n      <th>417</th>\n      <td>GGOEGAAJ080713</td>\n      <td>Google Men's Around The Block Short Sleeve Tee...</td>\n      <td>248.625000</td>\n    </tr>\n    <tr>\n      <th>1339</th>\n      <td>GGOEGAEJ030717</td>\n      <td>Google Men's 3/4 Sleeve Raglan Henley Grey</td>\n      <td>241.000000</td>\n    </tr>\n    <tr>\n      <th>2015</th>\n      <td>GGOEAAEB031214</td>\n      <td>Android Heavyweight Long Sleeve Badge Tee Black</td>\n      <td>238.573171</td>\n    </tr>\n    <tr>\n      <th>828</th>\n      <td>9180774</td>\n      <td>Pet Feeding Mat</td>\n      <td>200.000000</td>\n    </tr>\n    <tr>\n      <th>1617</th>\n      <td>GGOEGAXC075155</td>\n      <td>Google Toddler Tee Fruit Games Lemon</td>\n      <td>191.500000</td>\n    </tr>\n    <tr>\n      <th>1299</th>\n      <td>GGOEAAEB031616</td>\n      <td>Android Men's 3/4 Sleeve Raglan Henley Black</td>\n      <td>184.304348</td>\n    </tr>\n    <tr>\n      <th>360</th>\n      <td>GGOEAAAJ034513</td>\n      <td>Android Men's Vintage Tee</td>\n      <td>182.560000</td>\n    </tr>\n  </tbody>\n</table>\n</div>"
     },
     "metadata": {}
    }
   ],
   "execution_count": null
  },
  {
   "cell_type": "markdown",
   "source": "## Fast-moving Products: Customers promptly buy them without doing much research on them",
   "metadata": {
    "cell_id": "ce8e7a16-fabe-4fba-8ca3-288f649190e7",
    "tags": [],
    "deepnote_cell_type": "markdown"
   }
  },
  {
   "cell_type": "code",
   "source": "df.sort_values('avg_hits', ascending=True).head(10)",
   "metadata": {
    "cell_id": "28e7dd76-410a-421d-9654-2d35f722c804",
    "tags": [],
    "deepnote_to_be_reexecuted": false,
    "source_hash": "6c1a32da",
    "execution_start": 1643103457511,
    "execution_millis": 10,
    "deepnote_cell_type": "code"
   },
   "outputs": [
    {
     "output_type": "execute_result",
     "execution_count": 20,
     "data": {
      "application/vnd.deepnote.dataframe.v3+json": {
       "column_count": 3,
       "row_count": 10,
       "columns": [
        {
         "name": "ProductSku",
         "dtype": "object",
         "stats": {
          "unique_count": 10,
          "nan_count": 0,
          "categories": [
           {
            "name": "GGOEGAAX0127",
            "count": 1
           },
           {
            "name": "GGOEGDWR015799",
            "count": 1
           },
           {
            "name": "8 others",
            "count": 8
           }
          ]
         }
        },
        {
         "name": "ProductName",
         "dtype": "object",
         "stats": {
          "unique_count": 10,
          "nan_count": 0,
          "categories": [
           {
            "name": "Android 24 oz Button Lid Sport Water Bottle",
            "count": 1
           },
           {
            "name": "15 oz Ceramic Mug",
            "count": 1
           },
           {
            "name": "8 others",
            "count": 8
           }
          ]
         }
        },
        {
         "name": "avg_hits",
         "dtype": "float64",
         "stats": {
          "unique_count": 10,
          "nan_count": 0,
          "min": "0.0270059724746819",
          "max": "0.08325991189427313",
          "histogram": [
           {
            "bin_start": 0.0270059724746819,
            "bin_end": 0.03263136641664102,
            "count": 2
           },
           {
            "bin_start": 0.03263136641664102,
            "bin_end": 0.03825676035860015,
            "count": 0
           },
           {
            "bin_start": 0.03825676035860015,
            "bin_end": 0.04388215430055927,
            "count": 0
           },
           {
            "bin_start": 0.04388215430055927,
            "bin_end": 0.04950754824251839,
            "count": 0
           },
           {
            "bin_start": 0.04950754824251839,
            "bin_end": 0.055132942184477514,
            "count": 0
           },
           {
            "bin_start": 0.055132942184477514,
            "bin_end": 0.06075833612643664,
            "count": 2
           },
           {
            "bin_start": 0.06075833612643664,
            "bin_end": 0.06638373006839576,
            "count": 0
           },
           {
            "bin_start": 0.06638373006839576,
            "bin_end": 0.07200912401035489,
            "count": 1
           },
           {
            "bin_start": 0.07200912401035489,
            "bin_end": 0.077634517952314,
            "count": 1
           },
           {
            "bin_start": 0.077634517952314,
            "bin_end": 0.08325991189427313,
            "count": 4
           }
          ]
         }
        },
        {
         "name": "_deepnote_index_column",
         "dtype": "int64"
        }
       ],
       "rows": [
        {
         "ProductSku": "GGOEGAAX0127",
         "ProductName": "Android 24 oz Button Lid Sport Water Bottle",
         "avg_hits": 0.0270059724746819,
         "_deepnote_index_column": 371
        },
        {
         "ProductSku": "GGOEGDWR015799",
         "ProductName": "15 oz Ceramic Mug",
         "avg_hits": 0.03194888178913738,
         "_deepnote_index_column": 1319
        },
        {
         "ProductSku": "GGOEGBMC056599",
         "ProductName": "Google Small Waterproof Duffel",
         "avg_hits": 0.057474874371859296,
         "_deepnote_index_column": 802
        },
        {
         "ProductSku": "GGOEGESQ016799",
         "ProductName": "Google Magnetic Mini Flood Flashlight",
         "avg_hits": 0.060445387062566275,
         "_deepnote_index_column": 1783
        },
        {
         "ProductSku": "GGOEGAAX0327",
         "ProductName": "Google Men's Long & Lean Tee Grey",
         "avg_hits": 0.07023411371237458,
         "_deepnote_index_column": 1997
        },
        {
         "ProductSku": "GGOEGOXQ016399",
         "ProductName": "Google Badge Pull",
         "avg_hits": 0.07731694828469023,
         "_deepnote_index_column": 1992
        },
        {
         "ProductSku": "GGOEGAAX0098",
         "ProductName": "Google 7-inch Dog Flying Disc",
         "avg_hits": 0.07908351810790835,
         "_deepnote_index_column": 510
        },
        {
         "ProductSku": "9182575",
         "ProductName": "Android Men's Zip Hoodie",
         "avg_hits": 0.07971014492753623,
         "_deepnote_index_column": 722
        },
        {
         "ProductSku": "GGOEGAAX0328",
         "ProductName": "Google Men's Long & Lean Tee Charcoal",
         "avg_hits": 0.08209851822186624,
         "_deepnote_index_column": 1018
        },
        {
         "ProductSku": "GGOEGHGH019699",
         "ProductName": "Google Sunglasses Green",
         "avg_hits": 0.08325991189427313,
         "_deepnote_index_column": 1304
        }
       ]
      },
      "text/plain": "          ProductSku                                  ProductName  avg_hits\n371     GGOEGAAX0127  Android 24 oz Button Lid Sport Water Bottle  0.027006\n1319  GGOEGDWR015799                            15 oz Ceramic Mug  0.031949\n802   GGOEGBMC056599               Google Small Waterproof Duffel  0.057475\n1783  GGOEGESQ016799        Google Magnetic Mini Flood Flashlight  0.060445\n1997    GGOEGAAX0327            Google Men's Long & Lean Tee Grey  0.070234\n1992  GGOEGOXQ016399                            Google Badge Pull  0.077317\n510     GGOEGAAX0098                Google 7-inch Dog Flying Disc  0.079084\n722          9182575                     Android Men's Zip Hoodie  0.079710\n1018    GGOEGAAX0328        Google Men's Long & Lean Tee Charcoal  0.082099\n1304  GGOEGHGH019699                      Google Sunglasses Green  0.083260",
      "text/html": "<div>\n<style scoped>\n    .dataframe tbody tr th:only-of-type {\n        vertical-align: middle;\n    }\n\n    .dataframe tbody tr th {\n        vertical-align: top;\n    }\n\n    .dataframe thead th {\n        text-align: right;\n    }\n</style>\n<table border=\"1\" class=\"dataframe\">\n  <thead>\n    <tr style=\"text-align: right;\">\n      <th></th>\n      <th>ProductSku</th>\n      <th>ProductName</th>\n      <th>avg_hits</th>\n    </tr>\n  </thead>\n  <tbody>\n    <tr>\n      <th>371</th>\n      <td>GGOEGAAX0127</td>\n      <td>Android 24 oz Button Lid Sport Water Bottle</td>\n      <td>0.027006</td>\n    </tr>\n    <tr>\n      <th>1319</th>\n      <td>GGOEGDWR015799</td>\n      <td>15 oz Ceramic Mug</td>\n      <td>0.031949</td>\n    </tr>\n    <tr>\n      <th>802</th>\n      <td>GGOEGBMC056599</td>\n      <td>Google Small Waterproof Duffel</td>\n      <td>0.057475</td>\n    </tr>\n    <tr>\n      <th>1783</th>\n      <td>GGOEGESQ016799</td>\n      <td>Google Magnetic Mini Flood Flashlight</td>\n      <td>0.060445</td>\n    </tr>\n    <tr>\n      <th>1997</th>\n      <td>GGOEGAAX0327</td>\n      <td>Google Men's Long &amp; Lean Tee Grey</td>\n      <td>0.070234</td>\n    </tr>\n    <tr>\n      <th>1992</th>\n      <td>GGOEGOXQ016399</td>\n      <td>Google Badge Pull</td>\n      <td>0.077317</td>\n    </tr>\n    <tr>\n      <th>510</th>\n      <td>GGOEGAAX0098</td>\n      <td>Google 7-inch Dog Flying Disc</td>\n      <td>0.079084</td>\n    </tr>\n    <tr>\n      <th>722</th>\n      <td>9182575</td>\n      <td>Android Men's Zip Hoodie</td>\n      <td>0.079710</td>\n    </tr>\n    <tr>\n      <th>1018</th>\n      <td>GGOEGAAX0328</td>\n      <td>Google Men's Long &amp; Lean Tee Charcoal</td>\n      <td>0.082099</td>\n    </tr>\n    <tr>\n      <th>1304</th>\n      <td>GGOEGHGH019699</td>\n      <td>Google Sunglasses Green</td>\n      <td>0.083260</td>\n    </tr>\n  </tbody>\n</table>\n</div>"
     },
     "metadata": {}
    }
   ],
   "execution_count": null
  },
  {
   "cell_type": "code",
   "source": "",
   "metadata": {
    "cell_id": "4aa666e7-b809-4702-b47d-964b05bf0850",
    "tags": [],
    "deepnote_cell_type": "code"
   },
   "outputs": [],
   "execution_count": null
  },
  {
   "cell_type": "markdown",
   "source": "<a style='text-decoration:none;line-height:16px;display:flex;color:#5B5B62;padding:10px;justify-content:end;' href='https://deepnote.com?utm_source=created-in-deepnote-cell&projectId=0bf64fc0-3489-421f-847e-b901bd3270a1' target=\"_blank\">\n<img alt='Created in deepnote.com' style='display:inline;max-height:16px;margin:0px;margin-right:7.5px;' src='data:image/svg+xml;base64,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' > </img>\nCreated in <span style='font-weight:600;margin-left:4px;'>Deepnote</span></a>",
   "metadata": {
    "tags": [],
    "created_in_deepnote_cell": true,
    "deepnote_cell_type": "markdown"
   }
  }
 ],
 "nbformat": 4,
 "nbformat_minor": 2,
 "metadata": {
  "orig_nbformat": 2,
  "deepnote": {
   "is_reactive": false
  },
  "deepnote_notebook_id": "43df48e8-9a7a-4455-abe6-7233a673f3d9",
  "deepnote_execution_queue": []
 }
}